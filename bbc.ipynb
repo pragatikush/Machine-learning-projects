{
 "cells": [
  {
   "cell_type": "code",
   "execution_count": 53,
   "metadata": {},
   "outputs": [
    {
     "name": "stderr",
     "output_type": "stream",
     "text": [
      "c:\\users\\pragati\\appdata\\local\\programs\\python\\python37-32\\lib\\site-packages\\sklearn\\svm\\base.py:196: FutureWarning: The default value of gamma will change from 'auto' to 'scale' in version 0.22 to account better for unscaled features. Set gamma explicitly to 'auto' or 'scale' to avoid this warning.\n",
      "  \"avoid this warning.\", FutureWarning)\n"
     ]
    },
    {
     "name": "stdout",
     "output_type": "stream",
     "text": [
      "0.9236526946107785\n",
      "0.8997005988023952\n",
      "0.8862275449101796\n"
     ]
    },
    {
     "name": "stderr",
     "output_type": "stream",
     "text": [
      "c:\\users\\pragati\\appdata\\local\\programs\\python\\python37-32\\lib\\site-packages\\sklearn\\ensemble\\forest.py:246: FutureWarning: The default value of n_estimators will change from 10 in version 0.20 to 100 in 0.22.\n",
      "  \"10 in version 0.20 to 100 in 0.22.\", FutureWarning)\n"
     ]
    },
    {
     "name": "stdout",
     "output_type": "stream",
     "text": [
      "0.7754491017964071\n"
     ]
    },
    {
     "name": "stderr",
     "output_type": "stream",
     "text": [
      "c:\\users\\pragati\\appdata\\local\\programs\\python\\python37-32\\lib\\site-packages\\sklearn\\svm\\base.py:196: FutureWarning: The default value of gamma will change from 'auto' to 'scale' in version 0.22 to account better for unscaled features. Set gamma explicitly to 'auto' or 'scale' to avoid this warning.\n",
      "  \"avoid this warning.\", FutureWarning)\n"
     ]
    },
    {
     "name": "stdout",
     "output_type": "stream",
     "text": [
      "0.9176646706586826\n"
     ]
    }
   ],
   "source": [
    "##### import numpy as np\n",
    "import pandas as pd\n",
    "df=pd.read_csv(\"D:\\\\bbc-text.csv\")\n",
    "data=df.values\n",
    "#print(df.head)\n",
    "y=data[:,0]\n",
    "x=data[:,1]\n",
    "from sklearn.model_selection import train_test_split\n",
    "x_train,x_test,y_train,y_test =train_test_split(x,y,test_size=0.3)\n",
    "from sklearn.feature_extraction.text import CountVectorizer\n",
    "count_vec=CountVectorizer(max_df=0.95, min_df=5,\n",
    "                            max_features=400,\n",
    "                            stop_words='english')\n",
    "x_train_features=count_vec.fit_transform(x_train)\n",
    "x_test_features=count_vec.transform(x_test)\n",
    "#a.todense()\n",
    "#count_vec.get_feature_names()\n",
    "from sklearn.svm import SVC\n",
    "svc=SVC()\n",
    "svc.fit(x_train_features,y_train)\n",
    "print(svc.score(x_test_features,y_test))\n",
    "from sklearn.naive_bayes import GaussianNB\n",
    "clf=GaussianNB()\n",
    "clf.fit(x_train_features.toarray(),y_train)\n",
    "print(clf.score(x_test_features.toarray(),y_test))\n",
    "from sklearn.ensemble import RandomForestClassifier\n",
    "clf1=RandomForestClassifier(max_depth=300)\n",
    "clf1.fit(x_train_features.toarray(),y_train)\n",
    "print(clf1.score(x_test_features.toarray(),y_test))\n",
    "from sklearn.neighbors import KNeighborsClassifier\n",
    "clf2=KNeighborsClassifier()\n",
    "clf2.fit(x_train_features.toarray(), y_train)\n",
    "print(clf2.score(x_test_features.toarray(), y_test))\n",
    "from sklearn.model_selection import cross_val_score\n",
    "#for i in range(1,26,2):\n",
    "#  clf=KNeighborsClassifier(n_neighbors=i)\n",
    "#  score1=cross_val_score(clf,x_train_features.toarray(), y_train)\n",
    "#  print(i,score1.mean())\n",
    "from sklearn import decomposition\n",
    "pca=decomposition.PCA(n_components=50)\n",
    "x_train_pca=pca.fit_transform(x_train_features.toarray())\n",
    "x_test_pca=pca.transform(x_test_features.toarray())\n",
    "from sklearn.svm import SVC\n",
    "svc=SVC()\n",
    "svc.fit(x_train_pca,y_train)\n",
    "print(svc.score(x_test_pca,y_test))"
   ]
  }
 ],
 "metadata": {
  "kernelspec": {
   "display_name": "Python 3",
   "language": "python",
   "name": "python3"
  },
  "language_info": {
   "codemirror_mode": {
    "name": "ipython",
    "version": 3
   },
   "file_extension": ".py",
   "mimetype": "text/x-python",
   "name": "python",
   "nbconvert_exporter": "python",
   "pygments_lexer": "ipython3",
   "version": "3.7.2"
  }
 },
 "nbformat": 4,
 "nbformat_minor": 2
}
